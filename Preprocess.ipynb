{
 "cells": [
  {
   "cell_type": "code",
   "execution_count": 1,
   "metadata": {},
   "outputs": [],
   "source": [
    "import os\n",
    "import numpy as np\n",
    "import pandas as pd\n",
    "import csv\n",
    "import gc\n",
    "\n",
    "files = os.listdir()"
   ]
  },
  {
   "cell_type": "code",
   "execution_count": null,
   "metadata": {},
   "outputs": [],
   "source": [
    "a_traincsv = os.listdir('training')\n",
    "b_traincsv = os.listdir('training_setB')\n",
    "\n",
    "\n",
    "\n",
    "with open('train_patient.csv', 'w') as csvoutput:\n",
    "    writer = csv.writer(csvoutput, lineterminator='\\n')\n",
    "\n",
    "    for ind, csv_name in enumerate(a_traincsv):\n",
    "        with open('training/'+ csv_name,'r') as csvinput:\n",
    "\n",
    "\n",
    "            reader = csv.reader(csvinput, delimiter='|')\n",
    "            all = []\n",
    "\n",
    "            if ind ==0 :\n",
    "                row = next(reader)\n",
    "                row.append('Patient_id')\n",
    "                row.append('time')\n",
    "                all.append(row)\n",
    "            else:\n",
    "                row = next(reader)\n",
    "\n",
    "            for i,row in enumerate(reader):\n",
    "                row.append(ind)\n",
    "                row.append(i)\n",
    "\n",
    "\n",
    "                all.append(row)\n",
    "\n",
    "            writer.writerows(all)\n",
    "\n",
    "\n",
    "    num = ind \n",
    "\n",
    "\n",
    "    for inde, csv_name in enumerate(b_traincsv):\n",
    "        if inde < 10000:\n",
    "            num = num+1\n",
    "            with open('training_setB/'+ csv_name,'r') as csvinput:\n",
    "\n",
    "\n",
    "                reader = csv.reader(csvinput, delimiter='|')\n",
    "                all = []\n",
    "\n",
    "\n",
    "                row = next(reader)\n",
    "                for i,row in enumerate(reader):\n",
    "                    row.append(num)\n",
    "                    row.append(i)\n",
    "\n",
    "\n",
    "                    all.append(row)\n",
    "\n",
    "                writer.writerows(all)"
   ]
  },
  {
   "cell_type": "code",
   "execution_count": null,
   "metadata": {},
   "outputs": [],
   "source": [
    "train_df = pd.read_csv('train_patient.csv')\n",
    "train_df.head()"
   ]
  },
  {
   "cell_type": "code",
   "execution_count": null,
   "metadata": {},
   "outputs": [],
   "source": [
    "with open('val_patient.csv', 'w') as csvoutput:\n",
    "    writer = csv.writer(csvoutput, lineterminator='\\n')\n",
    "\n",
    "    for inde, csv_name in enumerate(b_traincsv):\n",
    "    \n",
    "        if inde >= 10000 and inde < 15000:\n",
    "            with open('training_setB/'+ csv_name,'r') as csvinput:\n",
    "\n",
    "\n",
    "                reader = csv.reader(csvinput, delimiter='|')\n",
    "                all = []\n",
    "\n",
    "\n",
    "                if inde == 10000:\n",
    "                    row = next(reader)\n",
    "                    row.append('Patient_id')\n",
    "                    row.append('time')\n",
    "                    all.append(row)\n",
    "                else:\n",
    "                    row = next(reader)\n",
    "\n",
    "                for i,row in enumerate(reader):\n",
    "                    row.append(inde)\n",
    "                    row.append(i)\n",
    "\n",
    "\n",
    "                    all.append(row)\n",
    "\n",
    "                writer.writerows(all)"
   ]
  },
  {
   "cell_type": "code",
   "execution_count": null,
   "metadata": {},
   "outputs": [],
   "source": [
    "val_df = pd.read_csv('val_patient.csv')\n",
    "val_df.head()"
   ]
  },
  {
   "cell_type": "code",
   "execution_count": null,
   "metadata": {},
   "outputs": [],
   "source": [
    "with open('test_patient.csv', 'w') as csvoutput:\n",
    "    writer = csv.writer(csvoutput, lineterminator='\\n')\n",
    "\n",
    "    for inde, csv_name in enumerate(b_traincsv):\n",
    "    \n",
    "        if inde >= 15000:\n",
    "            with open('training_setB/'+ csv_name,'r') as csvinput:\n",
    "\n",
    "\n",
    "                reader = csv.reader(csvinput, delimiter='|')\n",
    "                all = []\n",
    "\n",
    "\n",
    "                if inde ==15000 :\n",
    "                    row = next(reader)\n",
    "                    row.append('Patient_id')\n",
    "                    row.append('time')\n",
    "                    all.append(row)\n",
    "                else:\n",
    "                    row = next(reader)\n",
    "\n",
    "                for i,row in enumerate(reader):\n",
    "                    row.append(inde)\n",
    "                    row.append(i)\n",
    "\n",
    "\n",
    "                    all.append(row)\n",
    "\n",
    "                writer.writerows(all)"
   ]
  },
  {
   "cell_type": "code",
   "execution_count": null,
   "metadata": {},
   "outputs": [],
   "source": [
    "test_df = pd.read_csv('test_patient.csv')\n",
    "test_df.head()"
   ]
  },
  {
   "cell_type": "code",
   "execution_count": null,
   "metadata": {},
   "outputs": [],
   "source": []
  }
 ],
 "metadata": {
  "kernelspec": {
   "display_name": "Python 3",
   "language": "python",
   "name": "python3"
  },
  "language_info": {
   "codemirror_mode": {
    "name": "ipython",
    "version": 3
   },
   "file_extension": ".py",
   "mimetype": "text/x-python",
   "name": "python",
   "nbconvert_exporter": "python",
   "pygments_lexer": "ipython3",
   "version": "3.7.2"
  }
 },
 "nbformat": 4,
 "nbformat_minor": 2
}
